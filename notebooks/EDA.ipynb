{
 "cells": [
  {
   "cell_type": "code",
   "execution_count": 1,
   "id": "69b2e406",
   "metadata": {},
   "outputs": [],
   "source": [
    "import pandas as pd\n",
    "import seaborn as sns"
   ]
  },
  {
   "cell_type": "code",
   "execution_count": 2,
   "id": "f87a6cdb",
   "metadata": {},
   "outputs": [
    {
     "data": {
      "text/plain": [
       "Index(['id', 'Search date', 'Geography', 'Title', 'Text', 'Publication date',\n",
       "       'Original', 'Translated', 'Month', 'Year', 'Label'],\n",
       "      dtype='object')"
      ]
     },
     "execution_count": 2,
     "metadata": {},
     "output_type": "execute_result"
    }
   ],
   "source": [
    "data = pd.read_csv(r\"D:\\66 CausalMap\\Panasonic-IDS\\data\\MarketIntelligenceReport.csv\")\n",
    "data.columns"
   ]
  },
  {
   "cell_type": "code",
   "execution_count": 3,
   "id": "da3ed74e",
   "metadata": {},
   "outputs": [
    {
     "name": "stdout",
     "output_type": "stream",
     "text": [
      "9126 vs 6384\n"
     ]
    }
   ],
   "source": [
    "dedup = data.drop_duplicates(subset=['Translated'])\n",
    "print(len(data), 'vs', len(dedup))"
   ]
  },
  {
   "cell_type": "code",
   "execution_count": 8,
   "id": "745a564a",
   "metadata": {},
   "outputs": [
    {
     "data": {
      "text/html": [
       "<div>\n",
       "<style scoped>\n",
       "    .dataframe tbody tr th:only-of-type {\n",
       "        vertical-align: middle;\n",
       "    }\n",
       "\n",
       "    .dataframe tbody tr th {\n",
       "        vertical-align: top;\n",
       "    }\n",
       "\n",
       "    .dataframe thead th {\n",
       "        text-align: right;\n",
       "    }\n",
       "</style>\n",
       "<table border=\"1\" class=\"dataframe\">\n",
       "  <thead>\n",
       "    <tr style=\"text-align: right;\">\n",
       "      <th></th>\n",
       "      <th>id</th>\n",
       "      <th>Search date</th>\n",
       "      <th>Geography</th>\n",
       "      <th>Title</th>\n",
       "      <th>Text</th>\n",
       "      <th>Publication date</th>\n",
       "      <th>Original</th>\n",
       "      <th>Translated</th>\n",
       "      <th>Month</th>\n",
       "      <th>Year</th>\n",
       "      <th>Label</th>\n",
       "    </tr>\n",
       "  </thead>\n",
       "  <tbody>\n",
       "    <tr>\n",
       "      <th>4606</th>\n",
       "      <td>484</td>\n",
       "      <td>23/9/2022 8:56</td>\n",
       "      <td>japan</td>\n",
       "      <td>Global chip shortage: Toyota profits fall as p...</td>\n",
       "      <td>\"I think they actually see opportunity in cris...</td>\n",
       "      <td>14/4/2022</td>\n",
       "      <td>en</td>\n",
       "      <td>\"I think they actually see opportunity in cris...</td>\n",
       "      <td>Apr</td>\n",
       "      <td>2022</td>\n",
       "      <td>3</td>\n",
       "    </tr>\n",
       "    <tr>\n",
       "      <th>4307</th>\n",
       "      <td>185</td>\n",
       "      <td>23/9/2022 8:32</td>\n",
       "      <td>global</td>\n",
       "      <td>Global chip shortage: Toyota profits fall as p...</td>\n",
       "      <td>\"I think they actually see opportunity in cris...</td>\n",
       "      <td>9/2/2022</td>\n",
       "      <td>en</td>\n",
       "      <td>\"I think they actually see opportunity in cris...</td>\n",
       "      <td>Feb</td>\n",
       "      <td>2022</td>\n",
       "      <td>3</td>\n",
       "    </tr>\n",
       "    <tr>\n",
       "      <th>3732</th>\n",
       "      <td>428</td>\n",
       "      <td>19/9/2022 17:14</td>\n",
       "      <td>Europe</td>\n",
       "      <td>Toyota cuts global production for 3rd time but...</td>\n",
       "      <td>\"I think we are over the worst period,\" global...</td>\n",
       "      <td>15/10/2021</td>\n",
       "      <td>en</td>\n",
       "      <td>\"I think we are over the worst period,\" global...</td>\n",
       "      <td>Oct</td>\n",
       "      <td>2021</td>\n",
       "      <td>1</td>\n",
       "    </tr>\n",
       "    <tr>\n",
       "      <th>3576</th>\n",
       "      <td>272</td>\n",
       "      <td>19/9/2022 17:05</td>\n",
       "      <td>japan</td>\n",
       "      <td>Toyota cuts global production for 3rd time but...</td>\n",
       "      <td>\"I think we are over the worst period,\" global...</td>\n",
       "      <td>15/10/2021</td>\n",
       "      <td>en</td>\n",
       "      <td>\"I think we are over the worst period,\" global...</td>\n",
       "      <td>Oct</td>\n",
       "      <td>2021</td>\n",
       "      <td>1</td>\n",
       "    </tr>\n",
       "    <tr>\n",
       "      <th>2544</th>\n",
       "      <td>535</td>\n",
       "      <td>1/10/2022 13:11</td>\n",
       "      <td>europe</td>\n",
       "      <td>2022 auto industry forecast: Chance of pain</td>\n",
       "      <td>\"I think we are over the worst period,\" said g...</td>\n",
       "      <td>15/10/2021</td>\n",
       "      <td>en</td>\n",
       "      <td>\"I think we are over the worst period,\" said g...</td>\n",
       "      <td>Oct</td>\n",
       "      <td>2021</td>\n",
       "      <td>1</td>\n",
       "    </tr>\n",
       "    <tr>\n",
       "      <th>...</th>\n",
       "      <td>...</td>\n",
       "      <td>...</td>\n",
       "      <td>...</td>\n",
       "      <td>...</td>\n",
       "      <td>...</td>\n",
       "      <td>...</td>\n",
       "      <td>...</td>\n",
       "      <td>...</td>\n",
       "      <td>...</td>\n",
       "      <td>...</td>\n",
       "      <td>...</td>\n",
       "    </tr>\n",
       "    <tr>\n",
       "      <th>8091</th>\n",
       "      <td>292</td>\n",
       "      <td>22/9/2022 15:27</td>\n",
       "      <td>japan</td>\n",
       "      <td>Hyundai Motor turns on EV plant in Indonesia t...</td>\n",
       "      <td>영문뉴스Hyundai Motor turns on EV plant in Indones...</td>\n",
       "      <td>17/3/2022</td>\n",
       "      <td>en</td>\n",
       "      <td>영문뉴스Hyundai Motor turns on EV plant in Indones...</td>\n",
       "      <td>Mar</td>\n",
       "      <td>2022</td>\n",
       "      <td>1</td>\n",
       "    </tr>\n",
       "    <tr>\n",
       "      <th>7873</th>\n",
       "      <td>74</td>\n",
       "      <td>22/9/2022 14:43</td>\n",
       "      <td>global</td>\n",
       "      <td>Hyundai Motor turns on EV plant in Indonesia t...</td>\n",
       "      <td>영문뉴스Hyundai Motor turns on EV plant in Indones...</td>\n",
       "      <td>17/3/2022</td>\n",
       "      <td>en</td>\n",
       "      <td>영문뉴스Hyundai Motor turns on EV plant in Indones...</td>\n",
       "      <td>Mar</td>\n",
       "      <td>2022</td>\n",
       "      <td>1</td>\n",
       "    </tr>\n",
       "    <tr>\n",
       "      <th>3388</th>\n",
       "      <td>80</td>\n",
       "      <td>19/9/2022 16:54</td>\n",
       "      <td>global</td>\n",
       "      <td>Newly Developed “1-motor Hybrid Transmission” ...</td>\n",
       "      <td> Improvement of vehicle mountability through ...</td>\n",
       "      <td>22/7/2022</td>\n",
       "      <td>en</td>\n",
       "      <td> Improvement of vehicle mountability through ...</td>\n",
       "      <td>Jul</td>\n",
       "      <td>2022</td>\n",
       "      <td>5</td>\n",
       "    </tr>\n",
       "    <tr>\n",
       "      <th>4199</th>\n",
       "      <td>77</td>\n",
       "      <td>23/9/2022 8:27</td>\n",
       "      <td>global</td>\n",
       "      <td>MHI Thermal Systems’ Plug-in Hybrid Transport ...</td>\n",
       "      <td>･ Using both a plug-in power supply and a refr...</td>\n",
       "      <td>23/6/2022</td>\n",
       "      <td>en</td>\n",
       "      <td>･ Using both a plug-in power supply and a refr...</td>\n",
       "      <td>Jun</td>\n",
       "      <td>2022</td>\n",
       "      <td>5</td>\n",
       "    </tr>\n",
       "    <tr>\n",
       "      <th>4474</th>\n",
       "      <td>352</td>\n",
       "      <td>23/9/2022 8:50</td>\n",
       "      <td>japan</td>\n",
       "      <td>MHI Thermal Systems’ Plug-in Hybrid Transport ...</td>\n",
       "      <td>･ Using both a plug-in power supply and a refr...</td>\n",
       "      <td>23/6/2022</td>\n",
       "      <td>en</td>\n",
       "      <td>･ Using both a plug-in power supply and a refr...</td>\n",
       "      <td>Jun</td>\n",
       "      <td>2022</td>\n",
       "      <td>5</td>\n",
       "    </tr>\n",
       "  </tbody>\n",
       "</table>\n",
       "<p>9113 rows × 11 columns</p>\n",
       "</div>"
      ],
      "text/plain": [
       "       id      Search date Geography  \\\n",
       "4606  484   23/9/2022 8:56     japan   \n",
       "4307  185   23/9/2022 8:32    global   \n",
       "3732  428  19/9/2022 17:14    Europe   \n",
       "3576  272  19/9/2022 17:05     japan   \n",
       "2544  535  1/10/2022 13:11    europe   \n",
       "...   ...              ...       ...   \n",
       "8091  292  22/9/2022 15:27     japan   \n",
       "7873   74  22/9/2022 14:43    global   \n",
       "3388   80  19/9/2022 16:54    global   \n",
       "4199   77   23/9/2022 8:27    global   \n",
       "4474  352   23/9/2022 8:50     japan   \n",
       "\n",
       "                                                  Title  \\\n",
       "4606  Global chip shortage: Toyota profits fall as p...   \n",
       "4307  Global chip shortage: Toyota profits fall as p...   \n",
       "3732  Toyota cuts global production for 3rd time but...   \n",
       "3576  Toyota cuts global production for 3rd time but...   \n",
       "2544        2022 auto industry forecast: Chance of pain   \n",
       "...                                                 ...   \n",
       "8091  Hyundai Motor turns on EV plant in Indonesia t...   \n",
       "7873  Hyundai Motor turns on EV plant in Indonesia t...   \n",
       "3388  Newly Developed “1-motor Hybrid Transmission” ...   \n",
       "4199  MHI Thermal Systems’ Plug-in Hybrid Transport ...   \n",
       "4474  MHI Thermal Systems’ Plug-in Hybrid Transport ...   \n",
       "\n",
       "                                                   Text Publication date  \\\n",
       "4606  \"I think they actually see opportunity in cris...        14/4/2022   \n",
       "4307  \"I think they actually see opportunity in cris...         9/2/2022   \n",
       "3732  \"I think we are over the worst period,\" global...       15/10/2021   \n",
       "3576  \"I think we are over the worst period,\" global...       15/10/2021   \n",
       "2544  \"I think we are over the worst period,\" said g...       15/10/2021   \n",
       "...                                                 ...              ...   \n",
       "8091  영문뉴스Hyundai Motor turns on EV plant in Indones...        17/3/2022   \n",
       "7873  영문뉴스Hyundai Motor turns on EV plant in Indones...        17/3/2022   \n",
       "3388   Improvement of vehicle mountability through ...        22/7/2022   \n",
       "4199  ･ Using both a plug-in power supply and a refr...        23/6/2022   \n",
       "4474  ･ Using both a plug-in power supply and a refr...        23/6/2022   \n",
       "\n",
       "     Original                                         Translated Month  Year  \\\n",
       "4606       en  \"I think they actually see opportunity in cris...   Apr  2022   \n",
       "4307       en  \"I think they actually see opportunity in cris...   Feb  2022   \n",
       "3732       en  \"I think we are over the worst period,\" global...   Oct  2021   \n",
       "3576       en  \"I think we are over the worst period,\" global...   Oct  2021   \n",
       "2544       en  \"I think we are over the worst period,\" said g...   Oct  2021   \n",
       "...       ...                                                ...   ...   ...   \n",
       "8091       en  영문뉴스Hyundai Motor turns on EV plant in Indones...   Mar  2022   \n",
       "7873       en  영문뉴스Hyundai Motor turns on EV plant in Indones...   Mar  2022   \n",
       "3388       en   Improvement of vehicle mountability through ...   Jul  2022   \n",
       "4199       en  ･ Using both a plug-in power supply and a refr...   Jun  2022   \n",
       "4474       en  ･ Using both a plug-in power supply and a refr...   Jun  2022   \n",
       "\n",
       "      Label  \n",
       "4606      3  \n",
       "4307      3  \n",
       "3732      1  \n",
       "3576      1  \n",
       "2544      1  \n",
       "...     ...  \n",
       "8091      1  \n",
       "7873      1  \n",
       "3388      5  \n",
       "4199      5  \n",
       "4474      5  \n",
       "\n",
       "[9113 rows x 11 columns]"
      ]
     },
     "execution_count": 8,
     "metadata": {},
     "output_type": "execute_result"
    }
   ],
   "source": [
    "data.sort_values(by='Translated').iloc[13:]"
   ]
  },
  {
   "cell_type": "code",
   "execution_count": 4,
   "id": "043bd54f",
   "metadata": {},
   "outputs": [
    {
     "name": "stderr",
     "output_type": "stream",
     "text": [
      "<ipython-input-4-6f8d93aa3ec5>:1: SettingWithCopyWarning: \n",
      "A value is trying to be set on a copy of a slice from a DataFrame.\n",
      "Try using .loc[row_indexer,col_indexer] = value instead\n",
      "\n",
      "See the caveats in the documentation: https://pandas.pydata.org/pandas-docs/stable/user_guide/indexing.html#returning-a-view-versus-a-copy\n",
      "  dedup['n_sents'] = dedup['Translated'].apply(lambda x: len(x.split('\\n')))\n"
     ]
    },
    {
     "data": {
      "text/plain": [
       "<seaborn.axisgrid.FacetGrid at 0x1e646197b50>"
      ]
     },
     "execution_count": 4,
     "metadata": {},
     "output_type": "execute_result"
    },
    {
     "data": {
      "image/png": "[encoded data removed]",
      "text/plain": [
       "<Figure size 360x360 with 1 Axes>"
      ]
     },
     "metadata": {
      "needs_background": "light"
     },
     "output_type": "display_data"
    }
   ],
   "source": [
    "dedup['n_sents'] = dedup['Translated'].apply(lambda x: len(x.split('\\n')))\n",
    "# dedup['n_sents'].unique()\n",
    "sns.displot(data=dedup, x=\"n_sents\", kind=\"kde\")"
   ]
  },
  {
   "cell_type": "code",
   "execution_count": 9,
   "id": "2eed27a7",
   "metadata": {},
   "outputs": [
    {
     "data": {
      "text/plain": [
       "55354"
      ]
     },
     "execution_count": 9,
     "metadata": {},
     "output_type": "execute_result"
    }
   ],
   "source": [
    "dedup['n_sents'].sum()"
   ]
  },
  {
   "cell_type": "code",
   "execution_count": null,
   "id": "60da4570",
   "metadata": {},
   "outputs": [],
   "source": []
  }
 ],
 "metadata": {
  "kernelspec": {
   "display_name": "Python 3",
   "language": "python",
   "name": "python3"
  },
  "language_info": {
   "codemirror_mode": {
    "name": "ipython",
    "version": 3
   },
   "file_extension": ".py",
   "mimetype": "text/x-python",
   "name": "python",
   "nbconvert_exporter": "python",
   "pygments_lexer": "ipython3",
   "version": "3.8.10"
  }
 },
 "nbformat": 4,
 "nbformat_minor": 5
}
