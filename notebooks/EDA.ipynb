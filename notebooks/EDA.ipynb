{
 "cells": [
  {
   "cell_type": "code",
   "execution_count": 1,
   "id": "0a8d784d",
   "metadata": {},
   "outputs": [],
   "source": [
    "import nltk\n",
    "import re\n",
    "from nltk.tokenize import sent_tokenize"
   ]
  },
  {
   "cell_type": "code",
   "execution_count": 2,
   "id": "ae391c81",
   "metadata": {
    "scrolled": true
   },
   "outputs": [
    {
     "data": {
      "text/plain": [
       "'\\nPicture used for illustrative purposes.\\nChina’s yuan ended at a fresh 26-month low on Monday and traded below the psychologically critical 7-per-dollar level, pressured by bets for another big rate hike from the US Federal Reserve later this week.\\nThe onshore yuan finished the domestic trading session at 7.0179 per dollar, its weakest close since July 14, 2020, and 474 pips or 0.68 per cent weaker than the previous late-night close of 6.9705.\\nIts offshore counterpart traded at 7.0220 around 0830 GMT.\\nBefore the market opened, the People’s Bank of China (PBOC) set the midpoint rate at 6.9396 per dollar, 91 pips or 0.13% weaker than the previous fix of 6.9305 on Friday.\\nHowever, the official guidance came in firmer than market projections, traders and analysts said, continuing a trend seen since late August that market participants interpret as a bid to slow the yuan’s slide.\\n“The strong fixing bias could also be an attempt to offset the pressure from the net open market operation (OMO) injection on the yuan,” analysts at Maybank said in a note.\\nThe PBOC injected a net 12 billion yuan ($1.71 billion) through short-term liquidity tools on Monday to counteract quarter-end higher cash demand, while also lowering the borrowing cost of 14-day reverse repos.\\nHigher cash injections and lower interest rates should naturally pressure the currency, analysts said.\\nCurrency traders said the yuan remained under pressure ahead of a slew of global central bank meetings this week, where the Fed and the Bank of England are expected to further hike rates.\\nChina, along with Japan, has been a major outlier in a global run of interest rate hikes to tame inflation, with Beijing focused on reviving an economy hurt by COVID-19 shocks.\\nBut such widening policy divergence weighed on the yuan and limited room for Beijing to further manoieuvre monetary easing.\\nA Reuters poll showed that China is expected to keep lending benchmarks unchanged on Tuesday, with authorities seen holding off monetary easing in the short-term to avoid more depreciation pressure.\\n“Different from the past few rounds of RMB depreciation, the collapse of RMB forward points makes RMB short easy to hold due to positive carry,” analysts at OCBC Bank said in a note.\\n“This will make China’s counter-cyclical measures less effective to stop RMB depreciation than what they did before.\\n”One-year dollar/yuan swap points traded in the forward market hovered at a 12-year low of -1,445 points on Monday.\\nInstead, state media have increasingly warned the market of strong one-way bets against the local currency, with traders and analysts viewing them as part of official attempts to rein in excess yuan weakness.\\nWang Chunying, spokesperson of the State Administration of Foreign Exchange (SAFE), was quoted by the state broadcaster CCTV on Friday urging companies not to speculate on the currency.\\nThe CCTV also quoted unnamed sources close to the central bank as saying that the yuan will remain basically stable.\\nBoost consumption: China will speed up fund injections to expedite project construction and boost domestic consumption, China’s state planner said on Monday, even after the economy showed signs of renewed momentum last month.\\nThe world’s second-biggest economy slowed sharply in the second quarter, dragged down by a deepening property crisis, and slowing exports and imports.\\nHowever, it showed surprising resilience in August, with faster-than-expected growth in factory output and retail sales, although the property crisis continues to hang over recovery prospects.\\n“The economy is at a critical juncture in its recovery, as the foundation of the domestic economic recovery is still weak despite main economic indicators showing positive changes,” said spokeswoman Meng Wei at the National Development and Reform Commission (NDRC).\\nShanghai, which lifted a two-month Covid lockdown in June, said it would hand out “consumption vouchers” worth around 100 million yuan ($14.3 million) to residents starting Tuesday, for use in a major shopping district.\\nThe southern island province of Hainan on Monday also said it would issue vouchers, again totalling 100 million yuan, to make consumption the main driver of the recovery.\\nChina’s cabinet has rolled out a raft of measures since late May to bolster an economy ravaged by disruptions caused by government restrictions and lockdowns.\\n“Stringent COVID restrictions amid the Omicron variant have led to frequent local lockdowns and weighed on China’s economic activity this year,” said Goldman Sachs in a research note.\\n“We estimate the current level of restrictions is suppressing the level of GDP in China by 4-5 per cent.\\n”'"
      ]
     },
     "execution_count": 2,
     "metadata": {},
     "output_type": "execute_result"
    }
   ],
   "source": [
    "text = \"\"\"\n",
    "Picture used for illustrative purposes.\n",
    "China’s yuan ended at a fresh 26-month low on Monday and traded below the psychologically critical 7-per-dollar level, pressured by bets for another big rate hike from the US Federal Reserve later this week.The onshore yuan finished the domestic trading session at 7.0179 per dollar, its weakest close since July 14, 2020, and 474 pips or 0.68 per cent weaker than the previous late-night close of 6.9705.Its offshore counterpart traded at 7.0220 around 0830 GMT.Before the market opened, the People’s Bank of China (PBOC) set the midpoint rate at 6.9396 per dollar, 91 pips or 0.13% weaker than the previous fix of 6.9305 on Friday.However, the official guidance came in firmer than market projections, traders and analysts said, continuing a trend seen since late August that market participants interpret as a bid to slow the yuan’s slide.“The strong fixing bias could also be an attempt to offset the pressure from the net open market operation (OMO) injection on the yuan,” analysts at Maybank said in a note.The PBOC injected a net 12 billion yuan ($1.71 billion) through short-term liquidity tools on Monday to counteract quarter-end higher cash demand, while also lowering the borrowing cost of 14-day reverse repos.Higher cash injections and lower interest rates should naturally pressure the currency, analysts said.Currency traders said the yuan remained under pressure ahead of a slew of global central bank meetings this week, where the Fed and the Bank of England are expected to further hike rates.China, along with Japan, has been a major outlier in a global run of interest rate hikes to tame inflation, with Beijing focused on reviving an economy hurt by COVID-19 shocks.But such widening policy divergence weighed on the yuan and limited room for Beijing to further manoieuvre monetary easing.\n",
    "A Reuters poll showed that China is expected to keep lending benchmarks unchanged on Tuesday, with authorities seen holding off monetary easing in the short-term to avoid more depreciation pressure.“Different from the past few rounds of RMB depreciation, the collapse of RMB forward points makes RMB short easy to hold due to positive carry,” analysts at OCBC Bank said in a note.“This will make China’s counter-cyclical measures less effective to stop RMB depreciation than what they did before.”One-year dollar/yuan swap points traded in the forward market hovered at a 12-year low of -1,445 points on Monday.Instead, state media have increasingly warned the market of strong one-way bets against the local currency, with traders and analysts viewing them as part of official attempts to rein in excess yuan weakness.Wang Chunying, spokesperson of the State Administration of Foreign Exchange (SAFE), was quoted by the state broadcaster CCTV on Friday urging companies not to speculate on the currency.The CCTV also quoted unnamed sources close to the central bank as saying that the yuan will remain basically stable.Boost consumption: China will speed up fund injections to expedite project construction and boost domestic consumption, China’s state planner said on Monday, even after the economy showed signs of renewed momentum last month.The world’s second-biggest economy slowed sharply in the second quarter, dragged down by a deepening property crisis, and slowing exports and imports.However, it showed surprising resilience in August, with faster-than-expected growth in factory output and retail sales, although the property crisis continues to hang over recovery prospects.“The economy is at a critical juncture in its recovery, as the foundation of the domestic economic recovery is still weak despite main economic indicators showing positive changes,” said spokeswoman Meng Wei at the National Development and Reform Commission (NDRC).Shanghai, which lifted a two-month Covid lockdown in June, said it would hand out “consumption vouchers” worth around 100 million yuan ($14.3 million) to residents starting Tuesday, for use in a major shopping district.The southern island province of Hainan on Monday also said it would issue vouchers, again totalling 100 million yuan, to make consumption the main driver of the recovery.China’s cabinet has rolled out a raft of measures since late May to bolster an economy ravaged by disruptions caused by government restrictions and lockdowns.“Stringent COVID restrictions amid the Omicron variant have led to frequent local lockdowns and weighed on China’s economic activity this year,” said Goldman Sachs in a research note.“We estimate the current level of restrictions is suppressing the level of GDP in China by 4-5 per cent.”\n",
    "\"\"\"\n",
    "\n",
    "'\\n'.join(sent_tokenize(re.sub('\\.(?!\\s|\\d|$)','. ', text)))"
   ]
  },
  {
   "cell_type": "code",
   "execution_count": 3,
   "id": "69b2e406",
   "metadata": {},
   "outputs": [],
   "source": [
    "import pandas as pd\n",
    "import seaborn as sns"
   ]
  },
  {
   "cell_type": "code",
   "execution_count": 4,
   "id": "f87a6cdb",
   "metadata": {},
   "outputs": [
    {
     "data": {
      "text/plain": [
       "Index(['id', 'Search date', 'Geography', 'Title', 'Text', 'Publication date',\n",
       "       'Original', 'Translated', 'Month', 'Year', 'Label'],\n",
       "      dtype='object')"
      ]
     },
     "execution_count": 4,
     "metadata": {},
     "output_type": "execute_result"
    }
   ],
   "source": [
    "data = pd.read_csv(r\"D:\\66 CausalMap\\Panasonic-IDS\\data\\MarketIntelligenceReport.csv\")\n",
    "data.columns"
   ]
  },
  {
   "cell_type": "code",
   "execution_count": 5,
   "id": "da3ed74e",
   "metadata": {},
   "outputs": [
    {
     "name": "stdout",
     "output_type": "stream",
     "text": [
      "9126 vs 6384\n"
     ]
    }
   ],
   "source": [
    "dedup = data.drop_duplicates(subset=['Translated'])\n",
    "print(len(data), 'vs', len(dedup))"
   ]
  },
  {
   "cell_type": "code",
   "execution_count": 6,
   "id": "fd3c985e",
   "metadata": {},
   "outputs": [
    {
     "name": "stderr",
     "output_type": "stream",
     "text": [
      "<ipython-input-6-19ee40d7c77a>:1: SettingWithCopyWarning: \n",
      "A value is trying to be set on a copy of a slice from a DataFrame.\n",
      "Try using .loc[row_indexer,col_indexer] = value instead\n",
      "\n",
      "See the caveats in the documentation: https://pandas.pydata.org/pandas-docs/stable/user_guide/indexing.html#returning-a-view-versus-a-copy\n",
      "  dedup['Translated'] = dedup['Translated'].apply(lambda s: '\\n'.join(sent_tokenize(re.sub('\\.(?!\\s|\\d|$)','. ', s))))\n"
     ]
    }
   ],
   "source": [
    "dedup['Translated'] = dedup['Translated'].apply(lambda s: '\\n'.join(sent_tokenize(re.sub('\\.(?!\\s|\\d|$)','. ', s))))"
   ]
  },
  {
   "cell_type": "code",
   "execution_count": 7,
   "id": "745a564a",
   "metadata": {},
   "outputs": [
    {
     "data": {
      "text/html": [
       "<div>\n",
       "<style scoped>\n",
       "    .dataframe tbody tr th:only-of-type {\n",
       "        vertical-align: middle;\n",
       "    }\n",
       "\n",
       "    .dataframe tbody tr th {\n",
       "        vertical-align: top;\n",
       "    }\n",
       "\n",
       "    .dataframe thead th {\n",
       "        text-align: right;\n",
       "    }\n",
       "</style>\n",
       "<table border=\"1\" class=\"dataframe\">\n",
       "  <thead>\n",
       "    <tr style=\"text-align: right;\">\n",
       "      <th></th>\n",
       "      <th>id</th>\n",
       "      <th>Search date</th>\n",
       "      <th>Geography</th>\n",
       "      <th>Title</th>\n",
       "      <th>Text</th>\n",
       "      <th>Publication date</th>\n",
       "      <th>Original</th>\n",
       "      <th>Translated</th>\n",
       "      <th>Month</th>\n",
       "      <th>Year</th>\n",
       "      <th>Label</th>\n",
       "    </tr>\n",
       "  </thead>\n",
       "  <tbody>\n",
       "    <tr>\n",
       "      <th>765</th>\n",
       "      <td>81</td>\n",
       "      <td>28/9/2022 16:12</td>\n",
       "      <td>global</td>\n",
       "      <td>Stellantis: Suppliers bear all the risk</td>\n",
       "      <td>\"A key defense that you have under the law is ...</td>\n",
       "      <td>4/2/2022</td>\n",
       "      <td>en</td>\n",
       "      <td>\"A key defense that you have under the law is ...</td>\n",
       "      <td>Feb</td>\n",
       "      <td>2022</td>\n",
       "      <td>4</td>\n",
       "    </tr>\n",
       "    <tr>\n",
       "      <th>2345</th>\n",
       "      <td>336</td>\n",
       "      <td>1/10/2022 12:45</td>\n",
       "      <td>japan</td>\n",
       "      <td>Nissan tells dealers to stop taking orders for...</td>\n",
       "      <td>\"Ariya has been successfully accepted around t...</td>\n",
       "      <td>27/5/2022</td>\n",
       "      <td>en</td>\n",
       "      <td>\"Ariya has been successfully accepted around t...</td>\n",
       "      <td>May</td>\n",
       "      <td>2022</td>\n",
       "      <td>2</td>\n",
       "    </tr>\n",
       "    <tr>\n",
       "      <th>7386</th>\n",
       "      <td>560</td>\n",
       "      <td>23/9/2022 14:15</td>\n",
       "      <td>europe</td>\n",
       "      <td>Chinese Tesla rival Xpeng Motors launches seda...</td>\n",
       "      <td>\"At this price range with the features we put ...</td>\n",
       "      <td>14/4/2021</td>\n",
       "      <td>en</td>\n",
       "      <td>\"At this price range with the features we put ...</td>\n",
       "      <td>Apr</td>\n",
       "      <td>2021</td>\n",
       "      <td>4</td>\n",
       "    </tr>\n",
       "    <tr>\n",
       "      <th>29</th>\n",
       "      <td>30</td>\n",
       "      <td>27/9/2022 15:23</td>\n",
       "      <td>global</td>\n",
       "      <td>Stellantis sees India as profitable market</td>\n",
       "      <td>\"Being profitable in India is possible if you ...</td>\n",
       "      <td>18/5/2022</td>\n",
       "      <td>en</td>\n",
       "      <td>\"Being profitable in India is possible if you ...</td>\n",
       "      <td>May</td>\n",
       "      <td>2022</td>\n",
       "      <td>4</td>\n",
       "    </tr>\n",
       "    <tr>\n",
       "      <th>1038</th>\n",
       "      <td>363</td>\n",
       "      <td>28/9/2022 17:11</td>\n",
       "      <td>europe</td>\n",
       "      <td>Stellantis sees India as profitable market ami...</td>\n",
       "      <td>\"Being profitable in India is possible if you ...</td>\n",
       "      <td>18/5/2022</td>\n",
       "      <td>en</td>\n",
       "      <td>\"Being profitable in India is possible if you ...</td>\n",
       "      <td>May</td>\n",
       "      <td>2022</td>\n",
       "      <td>4</td>\n",
       "    </tr>\n",
       "    <tr>\n",
       "      <th>...</th>\n",
       "      <td>...</td>\n",
       "      <td>...</td>\n",
       "      <td>...</td>\n",
       "      <td>...</td>\n",
       "      <td>...</td>\n",
       "      <td>...</td>\n",
       "      <td>...</td>\n",
       "      <td>...</td>\n",
       "      <td>...</td>\n",
       "      <td>...</td>\n",
       "      <td>...</td>\n",
       "    </tr>\n",
       "    <tr>\n",
       "      <th>4659</th>\n",
       "      <td>537</td>\n",
       "      <td>23/9/2022 8:58</td>\n",
       "      <td>japan</td>\n",
       "      <td>Best hybrid cars and PHEVs 2022</td>\n",
       "      <td>► UK’s best hybrid cars on sale in 2022► Our p...</td>\n",
       "      <td>24/8/2022</td>\n",
       "      <td>en</td>\n",
       "      <td>► UK’s best hybrid cars on sale in 2022► Our p...</td>\n",
       "      <td>Aug</td>\n",
       "      <td>2022</td>\n",
       "      <td>5</td>\n",
       "    </tr>\n",
       "    <tr>\n",
       "      <th>8091</th>\n",
       "      <td>292</td>\n",
       "      <td>22/9/2022 15:27</td>\n",
       "      <td>japan</td>\n",
       "      <td>Hyundai Motor turns on EV plant in Indonesia t...</td>\n",
       "      <td>영문뉴스Hyundai Motor turns on EV plant in Indones...</td>\n",
       "      <td>17/3/2022</td>\n",
       "      <td>en</td>\n",
       "      <td>영문뉴스Hyundai Motor turns on EV plant in Indones...</td>\n",
       "      <td>Mar</td>\n",
       "      <td>2022</td>\n",
       "      <td>1</td>\n",
       "    </tr>\n",
       "    <tr>\n",
       "      <th>7873</th>\n",
       "      <td>74</td>\n",
       "      <td>22/9/2022 14:43</td>\n",
       "      <td>global</td>\n",
       "      <td>Hyundai Motor turns on EV plant in Indonesia t...</td>\n",
       "      <td>영문뉴스Hyundai Motor turns on EV plant in Indones...</td>\n",
       "      <td>17/3/2022</td>\n",
       "      <td>en</td>\n",
       "      <td>영문뉴스Hyundai Motor turns on EV plant in Indones...</td>\n",
       "      <td>Mar</td>\n",
       "      <td>2022</td>\n",
       "      <td>1</td>\n",
       "    </tr>\n",
       "    <tr>\n",
       "      <th>3388</th>\n",
       "      <td>80</td>\n",
       "      <td>19/9/2022 16:54</td>\n",
       "      <td>global</td>\n",
       "      <td>Newly Developed “1-motor Hybrid Transmission” ...</td>\n",
       "      <td> Improvement of vehicle mountability through ...</td>\n",
       "      <td>22/7/2022</td>\n",
       "      <td>en</td>\n",
       "      <td> Improvement of vehicle mountability through ...</td>\n",
       "      <td>Jul</td>\n",
       "      <td>2022</td>\n",
       "      <td>5</td>\n",
       "    </tr>\n",
       "    <tr>\n",
       "      <th>4199</th>\n",
       "      <td>77</td>\n",
       "      <td>23/9/2022 8:27</td>\n",
       "      <td>global</td>\n",
       "      <td>MHI Thermal Systems’ Plug-in Hybrid Transport ...</td>\n",
       "      <td>･ Using both a plug-in power supply and a refr...</td>\n",
       "      <td>23/6/2022</td>\n",
       "      <td>en</td>\n",
       "      <td>･ Using both a plug-in power supply and a refr...</td>\n",
       "      <td>Jun</td>\n",
       "      <td>2022</td>\n",
       "      <td>5</td>\n",
       "    </tr>\n",
       "  </tbody>\n",
       "</table>\n",
       "<p>6384 rows × 11 columns</p>\n",
       "</div>"
      ],
      "text/plain": [
       "       id      Search date Geography  \\\n",
       "765    81  28/9/2022 16:12    global   \n",
       "2345  336  1/10/2022 12:45     japan   \n",
       "7386  560  23/9/2022 14:15    europe   \n",
       "29     30  27/9/2022 15:23    global   \n",
       "1038  363  28/9/2022 17:11    europe   \n",
       "...   ...              ...       ...   \n",
       "4659  537   23/9/2022 8:58     japan   \n",
       "8091  292  22/9/2022 15:27     japan   \n",
       "7873   74  22/9/2022 14:43    global   \n",
       "3388   80  19/9/2022 16:54    global   \n",
       "4199   77   23/9/2022 8:27    global   \n",
       "\n",
       "                                                  Title  \\\n",
       "765             Stellantis: Suppliers bear all the risk   \n",
       "2345  Nissan tells dealers to stop taking orders for...   \n",
       "7386  Chinese Tesla rival Xpeng Motors launches seda...   \n",
       "29           Stellantis sees India as profitable market   \n",
       "1038  Stellantis sees India as profitable market ami...   \n",
       "...                                                 ...   \n",
       "4659                    Best hybrid cars and PHEVs 2022   \n",
       "8091  Hyundai Motor turns on EV plant in Indonesia t...   \n",
       "7873  Hyundai Motor turns on EV plant in Indonesia t...   \n",
       "3388  Newly Developed “1-motor Hybrid Transmission” ...   \n",
       "4199  MHI Thermal Systems’ Plug-in Hybrid Transport ...   \n",
       "\n",
       "                                                   Text Publication date  \\\n",
       "765   \"A key defense that you have under the law is ...         4/2/2022   \n",
       "2345  \"Ariya has been successfully accepted around t...        27/5/2022   \n",
       "7386  \"At this price range with the features we put ...        14/4/2021   \n",
       "29    \"Being profitable in India is possible if you ...        18/5/2022   \n",
       "1038  \"Being profitable in India is possible if you ...        18/5/2022   \n",
       "...                                                 ...              ...   \n",
       "4659  ► UK’s best hybrid cars on sale in 2022► Our p...        24/8/2022   \n",
       "8091  영문뉴스Hyundai Motor turns on EV plant in Indones...        17/3/2022   \n",
       "7873  영문뉴스Hyundai Motor turns on EV plant in Indones...        17/3/2022   \n",
       "3388   Improvement of vehicle mountability through ...        22/7/2022   \n",
       "4199  ･ Using both a plug-in power supply and a refr...        23/6/2022   \n",
       "\n",
       "     Original                                         Translated Month  Year  \\\n",
       "765        en  \"A key defense that you have under the law is ...   Feb  2022   \n",
       "2345       en  \"Ariya has been successfully accepted around t...   May  2022   \n",
       "7386       en  \"At this price range with the features we put ...   Apr  2021   \n",
       "29         en  \"Being profitable in India is possible if you ...   May  2022   \n",
       "1038       en  \"Being profitable in India is possible if you ...   May  2022   \n",
       "...       ...                                                ...   ...   ...   \n",
       "4659       en  ► UK’s best hybrid cars on sale in 2022► Our p...   Aug  2022   \n",
       "8091       en  영문뉴스Hyundai Motor turns on EV plant in Indones...   Mar  2022   \n",
       "7873       en  영문뉴스Hyundai Motor turns on EV plant in Indones...   Mar  2022   \n",
       "3388       en   Improvement of vehicle mountability through ...   Jul  2022   \n",
       "4199       en  ･ Using both a plug-in power supply and a refr...   Jun  2022   \n",
       "\n",
       "      Label  \n",
       "765       4  \n",
       "2345      2  \n",
       "7386      4  \n",
       "29        4  \n",
       "1038      4  \n",
       "...     ...  \n",
       "4659      5  \n",
       "8091      1  \n",
       "7873      1  \n",
       "3388      5  \n",
       "4199      5  \n",
       "\n",
       "[6384 rows x 11 columns]"
      ]
     },
     "execution_count": 7,
     "metadata": {},
     "output_type": "execute_result"
    }
   ],
   "source": [
    "dedup.sort_values(by='Translated')"
   ]
  },
  {
   "cell_type": "code",
   "execution_count": 8,
   "id": "043bd54f",
   "metadata": {},
   "outputs": [
    {
     "name": "stderr",
     "output_type": "stream",
     "text": [
      "<ipython-input-8-6f8d93aa3ec5>:1: SettingWithCopyWarning: \n",
      "A value is trying to be set on a copy of a slice from a DataFrame.\n",
      "Try using .loc[row_indexer,col_indexer] = value instead\n",
      "\n",
      "See the caveats in the documentation: https://pandas.pydata.org/pandas-docs/stable/user_guide/indexing.html#returning-a-view-versus-a-copy\n",
      "  dedup['n_sents'] = dedup['Translated'].apply(lambda x: len(x.split('\\n')))\n"
     ]
    },
    {
     "data": {
      "text/plain": [
       "<seaborn.axisgrid.FacetGrid at 0x23224692a90>"
      ]
     },
     "execution_count": 8,
     "metadata": {},
     "output_type": "execute_result"
    },
    {
     "data": {
      "image/png": "[encoded data removed]",
      "text/plain": [
       "<Figure size 360x360 with 1 Axes>"
      ]
     },
     "metadata": {
      "needs_background": "light"
     },
     "output_type": "display_data"
    }
   ],
   "source": [
    "dedup['n_sents'] = dedup['Translated'].apply(lambda x: len(x.split('\\n')))\n",
    "# dedup['n_sents'].unique()\n",
    "sns.displot(data=dedup, x=\"n_sents\", kind=\"kde\")"
   ]
  },
  {
   "cell_type": "code",
   "execution_count": 9,
   "id": "2eed27a7",
   "metadata": {},
   "outputs": [
    {
     "data": {
      "text/plain": [
       "62151"
      ]
     },
     "execution_count": 9,
     "metadata": {},
     "output_type": "execute_result"
    }
   ],
   "source": [
    "dedup['n_sents'].sum()"
   ]
  },
  {
   "cell_type": "code",
   "execution_count": 10,
   "id": "60da4570",
   "metadata": {},
   "outputs": [],
   "source": [
    "dedup.to_csv(r\"D:\\66 CausalMap\\Panasonic-IDS\\data\\MIR.csv\", index=False, encoding='utf-8-sig')"
   ]
  },
  {
   "cell_type": "code",
   "execution_count": null,
   "id": "f2cbea01",
   "metadata": {},
   "outputs": [],
   "source": []
  }
 ],
 "metadata": {
  "kernelspec": {
   "display_name": "Python 3",
   "language": "python",
   "name": "python3"
  },
  "language_info": {
   "codemirror_mode": {
    "name": "ipython",
    "version": 3
   },
   "file_extension": ".py",
   "mimetype": "text/x-python",
   "name": "python",
   "nbconvert_exporter": "python",
   "pygments_lexer": "ipython3",
   "version": "3.8.10"
  }
 },
 "nbformat": 4,
 "nbformat_minor": 5
}
