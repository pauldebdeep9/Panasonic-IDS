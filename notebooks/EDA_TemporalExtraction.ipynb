{
 "cells": [
  {
   "cell_type": "code",
   "execution_count": 2,
   "id": "39c79f65",
   "metadata": {},
   "outputs": [],
   "source": [
    "import nltk\n",
    "from nltk.tag.stanford import StanfordNERTagger\n",
    "import os\n",
    "import re\n",
    "import pandas as pd\n",
    "from tqdm import tqdm\n",
    "from copy import copy\n",
    "\n",
    "java_path = r\"C:\\Program Files\\AdoptOpenJDK\\jdk-11.0.7.10-hotspot\\bin\\java.exe\"\n",
    "PATH_TO_JAR= r\"C:\\Users\\effbl\\stanza_corenlp\\stanford-ner-2020-11-17\\stanford-ner.jar\"\n",
    "PATH_TO_MODEL = r\"C:\\Users\\effbl\\stanza_corenlp\\stanford-ner-2020-11-17\\classifiers\\english.muc.7class.distsim.crf.ser.gz\"\n",
    "\n",
    "os.environ['JAVAHOME'] = java_path\n",
    "tagger = StanfordNERTagger(model_filename=PATH_TO_MODEL,path_to_jar=PATH_TO_JAR, encoding='utf-8')"
   ]
  },
  {
   "cell_type": "code",
   "execution_count": 4,
   "id": "9035deca",
   "metadata": {},
   "outputs": [],
   "source": [
    "text = 'The company, which made its last recall on Oct. 2 after several cars had lost power and stopped running, is recalling close to 4,600 vehicles due to a faulty component.'\n",
    "words = nltk.word_tokenize(text)\n",
    "tagged = tagger.tag(words)"
   ]
  },
  {
   "cell_type": "code",
   "execution_count": 5,
   "id": "92653e5a",
   "metadata": {},
   "outputs": [
    {
     "data": {
      "text/plain": [
       "[('The', 'O'),\n",
       " ('company', 'O'),\n",
       " (',', 'O'),\n",
       " ('which', 'O'),\n",
       " ('made', 'O'),\n",
       " ('its', 'O'),\n",
       " ('last', 'O'),\n",
       " ('recall', 'O'),\n",
       " ('on', 'O'),\n",
       " ('Oct.', 'DATE'),\n",
       " ('2', 'DATE'),\n",
       " ('after', 'O'),\n",
       " ('several', 'O'),\n",
       " ('cars', 'O'),\n",
       " ('had', 'O'),\n",
       " ('lost', 'O'),\n",
       " ('power', 'O'),\n",
       " ('and', 'O'),\n",
       " ('stopped', 'O'),\n",
       " ('running', 'O'),\n",
       " (',', 'O'),\n",
       " ('is', 'O'),\n",
       " ('recalling', 'O'),\n",
       " ('close', 'O'),\n",
       " ('to', 'O'),\n",
       " ('4,600', 'O'),\n",
       " ('vehicles', 'O'),\n",
       " ('due', 'O'),\n",
       " ('to', 'O'),\n",
       " ('a', 'O'),\n",
       " ('faulty', 'O'),\n",
       " ('component', 'O'),\n",
       " ('.', 'O')]"
      ]
     },
     "execution_count": 5,
     "metadata": {},
     "output_type": "execute_result"
    }
   ],
   "source": [
    "tagged"
   ]
  },
  {
   "cell_type": "code",
   "execution_count": null,
   "id": "ff9d5c71",
   "metadata": {},
   "outputs": [],
   "source": []
  }
 ],
 "metadata": {
  "kernelspec": {
   "display_name": "Python 3 (ipykernel)",
   "language": "python",
   "name": "python3"
  },
  "language_info": {
   "codemirror_mode": {
    "name": "ipython",
    "version": 3
   },
   "file_extension": ".py",
   "mimetype": "text/x-python",
   "name": "python",
   "nbconvert_exporter": "python",
   "pygments_lexer": "ipython3",
   "version": "3.7.12"
  }
 },
 "nbformat": 4,
 "nbformat_minor": 5
}
