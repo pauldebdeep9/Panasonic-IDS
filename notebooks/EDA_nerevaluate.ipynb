{
 "cells": [
  {
   "cell_type": "code",
   "execution_count": 1,
   "id": "d89088eb",
   "metadata": {
    "scrolled": true
   },
   "outputs": [],
   "source": [
    "import re\n",
    "import json\n",
    "import os\n",
    "import sys\n",
    "from ast import literal_eval\n",
    "from datasets import load_metric\n",
    "import pandas as pd\n",
    "import itertools\n",
    "# using https://github.com/MantisAI/nervaluate\n",
    "from nervaluate import Evaluator\n",
    "\n",
    "def get_BIO(text_w_pairs):\n",
    "    tokens = []\n",
    "    ce_tags = []\n",
    "    next_tag = tag = 'O'\n",
    "    for tok in text_w_pairs.split(' '):\n",
    "\n",
    "        # Replace if special\n",
    "        if '<ARG0>' in tok:\n",
    "            tok = re.sub('<ARG0>','',tok)\n",
    "            tag = 'B-C'\n",
    "            next_tag = 'I-C'\n",
    "        elif '</ARG0>' in tok:\n",
    "            tok = re.sub('</ARG0>','',tok)\n",
    "            tag = 'I-C'\n",
    "            next_tag = 'O'\n",
    "        elif '<ARG1>' in tok:\n",
    "            tok = re.sub('<ARG1>','',tok)\n",
    "            tag = 'B-E'\n",
    "            next_tag = 'I-E'\n",
    "        elif '</ARG1>' in tok:\n",
    "            tok = re.sub('</ARG1>','',tok)\n",
    "            tag = 'I-E'\n",
    "            next_tag = 'O'\n",
    "\n",
    "        tokens.append(clean_tok(tok))\n",
    "        ce_tags.append(tag)\n",
    "        tag = next_tag\n",
    "    \n",
    "    return tokens, ce_tags\n",
    "\n",
    "\n",
    "def clean_tok(tok):\n",
    "    # Remove all other tags: E.g. <SIG0>, <SIG1>...\n",
    "    return re.sub('</*[A-Z]+\\d*>','',tok) \n",
    "\n",
    "\n",
    "def read_predictions(submission_file):\n",
    "    predictions = []\n",
    "    with open(submission_file, \"r\") as reader:\n",
    "        for line in reader:\n",
    "            line = line.strip()\n",
    "            if line:\n",
    "                predictions.append(json.loads(line)['prediction'])\n",
    "    return predictions\n",
    "\n",
    "\n",
    "def keep_relevant_rows_and_unstack(ref_df, predictions):\n",
    "    \n",
    "    # Keep only causal examples\n",
    "    predictions_w_true_labels = []\n",
    "    eg_id_counter = []\n",
    "    for i, row in ref_df.iterrows():\n",
    "        if row.num_rs>0:\n",
    "            p = predictions[i]\n",
    "            if len(p)>row.num_rs:\n",
    "                # Note if you predict more than the number of relations we have, we only keep the first few.\n",
    "                # We completely ignore the subsequent predictions.\n",
    "                p = p[:row.num_rs]\n",
    "            elif len(p)<row.num_rs:\n",
    "                # Incorporate dummy predictions if there are insufficient predictions\n",
    "                p.extend([row.text]*(row.num_rs-len(p)))\n",
    "            predictions_w_true_labels.extend(p)\n",
    "            eg_id_counter.extend(list(range(row.num_rs)))\n",
    "    ref_df = ref_df[ref_df['num_rs']>0].reset_index(drop=True)\n",
    "    \n",
    "    # Expand into single rows\n",
    "    ref_df = ref_df.drop(['text_w_pairs'], axis=1)\n",
    "    ref_df['causal_text_w_pairs'] = ref_df['causal_text_w_pairs'].apply(lambda x: literal_eval(x))\n",
    "    ref_df = ref_df.explode('causal_text_w_pairs')\n",
    "    ref_df = ref_df.rename(columns={'causal_text_w_pairs':'text_w_pairs'})\n",
    "    ref_df['eg_id'] = eg_id_counter\n",
    "    \n",
    "    return ref_df.reset_index(drop=True), predictions_w_true_labels\n",
    "\n",
    "\n",
    "# set save files\n",
    "output_filename = os.path.join(r\"D:\\66 CausalMap\\Panasonic-IDS\\outs\", 'scores.txt')\n",
    "output_file = open(output_filename, 'w')\n",
    "\n",
    "# read files\n",
    "truth_file = r\"D:\\66 CausalMap\\Panasonic-IDS\\data\\MIR_annotated_grouped.csv\"\n",
    "ref_df = pd.read_csv(truth_file, encoding=\"utf-8\")\n",
    "submission_answer_file = r\"D:\\66 CausalMap\\Panasonic-IDS\\outs\\20230315_predictions.json\"\n",
    "pred_list = read_predictions(submission_answer_file)\n",
    "\n",
    "# Convert\n",
    "ref_df, pred_list = keep_relevant_rows_and_unstack(ref_df, pred_list)\n",
    "assert(len(pred_list)==len(ref_df))\n",
    "refs = [get_BIO(i) for i in ref_df['text_w_pairs']]\n",
    "preds = [get_BIO(i) for i in pred_list]"
   ]
  },
  {
   "cell_type": "code",
   "execution_count": 2,
   "id": "5ed1826d",
   "metadata": {},
   "outputs": [
    {
     "data": {
      "text/plain": [
       "{'ent_type': {'correct': 68,\n",
       "  'incorrect': 9,\n",
       "  'partial': 0,\n",
       "  'missed': 21,\n",
       "  'spurious': 3,\n",
       "  'possible': 98,\n",
       "  'actual': 80,\n",
       "  'precision': 0.85,\n",
       "  'recall': 0.6938775510204082,\n",
       "  'f1': 0.7640449438202247},\n",
       " 'partial': {'correct': 28,\n",
       "  'incorrect': 0,\n",
       "  'partial': 49,\n",
       "  'missed': 21,\n",
       "  'spurious': 3,\n",
       "  'possible': 98,\n",
       "  'actual': 80,\n",
       "  'precision': 0.65625,\n",
       "  'recall': 0.5357142857142857,\n",
       "  'f1': 0.5898876404494383},\n",
       " 'strict': {'correct': 28,\n",
       "  'incorrect': 49,\n",
       "  'partial': 0,\n",
       "  'missed': 21,\n",
       "  'spurious': 3,\n",
       "  'possible': 98,\n",
       "  'actual': 80,\n",
       "  'precision': 0.35,\n",
       "  'recall': 0.2857142857142857,\n",
       "  'f1': 0.3146067415730337},\n",
       " 'exact': {'correct': 28,\n",
       "  'incorrect': 49,\n",
       "  'partial': 0,\n",
       "  'missed': 21,\n",
       "  'spurious': 3,\n",
       "  'possible': 98,\n",
       "  'actual': 80,\n",
       "  'precision': 0.35,\n",
       "  'recall': 0.2857142857142857,\n",
       "  'f1': 0.3146067415730337}}"
      ]
     },
     "execution_count": 2,
     "metadata": {},
     "output_type": "execute_result"
    }
   ],
   "source": [
    "ce_refs_all = []\n",
    "ce_preds_all = []\n",
    "for i in range(len(refs)):\n",
    "    _, ce_ref = refs[i]\n",
    "    _, ce_pred = preds[i]\n",
    "    ce_refs_all.append(ce_ref)\n",
    "    ce_preds_all.append(ce_pred)\n",
    "    \n",
    "evaluator = Evaluator(ce_refs_all, ce_preds_all, tags=['C', 'E'], loader=\"list\")\n",
    "results, results_by_tag = evaluator.evaluate()\n",
    "results"
   ]
  },
  {
   "cell_type": "code",
   "execution_count": 3,
   "id": "d936b843",
   "metadata": {},
   "outputs": [
    {
     "data": {
      "text/plain": [
       "True"
      ]
     },
     "execution_count": 3,
     "metadata": {},
     "output_type": "execute_result"
    }
   ],
   "source": [
    "def is_overlapping(x1,x2,y1,y2):\n",
    "    return max(x1,y1) <= min(x2,y2)\n",
    "\n",
    "is_overlapping(1,2,0,1)"
   ]
  },
  {
   "cell_type": "code",
   "execution_count": 4,
   "id": "cedf3abb",
   "metadata": {},
   "outputs": [
    {
     "data": {
      "text/plain": [
       "(0, 7)"
      ]
     },
     "execution_count": 4,
     "metadata": {},
     "output_type": "execute_result"
    }
   ],
   "source": [
    "def get_start_end_positions(list_of_tags,tag='C'):\n",
    "    start = None\n",
    "    end = None\n",
    "    for i,t in enumerate(list_of_tags):\n",
    "        if tag in t:\n",
    "            if start is None:\n",
    "                start=i\n",
    "            end=i\n",
    "    return start,end\n",
    "\n",
    "get_start_end_positions(ce_ref,tag='E')"
   ]
  },
  {
   "cell_type": "code",
   "execution_count": 5,
   "id": "4f9b3840",
   "metadata": {},
   "outputs": [
    {
     "name": "stdout",
     "output_type": "stream",
     "text": [
      "35 / 49\n"
     ]
    },
    {
     "data": {
      "text/plain": [
       "8"
      ]
     },
     "execution_count": 5,
     "metadata": {},
     "output_type": "execute_result"
    }
   ],
   "source": [
    "def get_to(ce_pred, ce_ref):\n",
    "    \n",
    "    if len(set(ce_pred))==1 and ce_pred[0]=='O':\n",
    "        return 0,0,0\n",
    "        \n",
    "    c_pred_start, c_pred_end = get_start_end_positions(ce_pred,tag='C')\n",
    "    e_pred_start, e_pred_end = get_start_end_positions(ce_pred,tag='E')    \n",
    "    c_ref_start, c_ref_end = get_start_end_positions(ce_ref,tag='C')\n",
    "    e_ref_start, e_ref_end = get_start_end_positions(ce_ref,tag='E')\n",
    "    \n",
    "    if is_overlapping(c_ref_start,c_ref_end,c_pred_start, c_pred_end):\n",
    "        c_to=1\n",
    "    else:\n",
    "        c_to=0\n",
    "    if is_overlapping(e_ref_start,e_ref_end,e_pred_start, e_pred_end):\n",
    "        e_to=1\n",
    "    else:\n",
    "        e_to=0\n",
    "    if c_to==1 and e_to==1:\n",
    "        to=1\n",
    "    else:\n",
    "        to=0\n",
    "\n",
    "    return c_to, e_to, to\n",
    "\n",
    "\n",
    "def get_combinations(list1,list2):\n",
    "    return [list(zip(each_permutation, list2)) for each_permutation in itertools.permutations(list1, len(list2))]\n",
    "\n",
    "\n",
    "def keep_best_combinations_only(row, refs, preds):\n",
    "    best_to = []\n",
    "    \n",
    "    for points in get_combinations(row.id, row.id):\n",
    "        token_overlap = []\n",
    "        for a,b in list(points):\n",
    "            _, ce_ref = refs[a]\n",
    "            _, ce_pred = preds[b]\n",
    "            c_to, e_to, to = get_to(ce_pred, ce_ref)\n",
    "            token_overlap.append(to)\n",
    "        if sum(token_overlap)>sum(best_to):\n",
    "            best_to=token_overlap\n",
    "    return best_to\n",
    "\n",
    "\n",
    "do_best_combi = True\n",
    "\n",
    "if do_best_combi:\n",
    "    grouped_df = ref_df.copy()\n",
    "    grouped_df['id'] = [[i] for i in grouped_df.index]\n",
    "    grouped_df = grouped_df.groupby(['corpus','doc_id','sent_id'])[['eg_id','id']].agg({'eg_id':'count','id':'sum'}).reset_index()\n",
    "    grouped_df = grouped_df[grouped_df['eg_id']>1]\n",
    "    req_combi_ids = [item for sublist in grouped_df['id'] for item in sublist]\n",
    "\n",
    "    # For examples that DO NOT require combination search\n",
    "    regular_ids = list(set(range(len(preds)))-set(req_combi_ids))\n",
    "else:\n",
    "    regular_ids = list(set(range(len(preds))))\n",
    "\n",
    "\n",
    "token_overlap = []\n",
    "exact = 0\n",
    "list_of_ids = []\n",
    "\n",
    "for i in regular_ids:\n",
    "    \n",
    "    _, ce_pred = preds[i]\n",
    "    _, ce_ref = refs[i]\n",
    "    c_to, e_to, to = get_to(ce_pred, ce_ref)\n",
    "    token_overlap.append(to)\n",
    "    \n",
    "    if ce_pred==ce_ref:\n",
    "        exact+=1\n",
    "    \n",
    "    list_of_ids.append(i)\n",
    "    \n",
    "if do_best_combi:\n",
    "    for _, row in grouped_df.iterrows():\n",
    "        to = keep_best_combinations_only(row, refs, preds)\n",
    "        token_overlap.extend(to)\n",
    "        list_of_ids.extend(row.id)\n",
    "\n",
    "    \n",
    "print(sum(token_overlap),'/',len(token_overlap))\n",
    "exact"
   ]
  },
  {
   "cell_type": "code",
   "execution_count": 6,
   "id": "8cfdd449",
   "metadata": {},
   "outputs": [
    {
     "data": {
      "text/plain": [
       "[10, 11, 14, 15, 27, 28, 34, 35, 37, 38, 39, 40]"
      ]
     },
     "execution_count": 6,
     "metadata": {},
     "output_type": "execute_result"
    }
   ],
   "source": [
    "req_combi_ids"
   ]
  },
  {
   "cell_type": "code",
   "execution_count": 7,
   "id": "e15625f2",
   "metadata": {},
   "outputs": [
    {
     "name": "stdout",
     "output_type": "stream",
     "text": [
      "1\n",
      "1\n",
      "1\n",
      "1\n",
      "1\n",
      "1\n",
      "1\n",
      "1\n",
      "1\n",
      "1\n",
      "1\n",
      "0\n",
      "1\n",
      "0\n",
      "1\n",
      "0\n",
      "0\n",
      "1\n",
      "1\n",
      "1\n",
      "1\n",
      "1\n",
      "0\n",
      "1\n",
      "0\n",
      "1\n",
      "1\n",
      "0\n",
      "1\n",
      "1\n",
      "1\n",
      "1\n",
      "0\n",
      "1\n",
      "1\n",
      "0\n",
      "1\n",
      "1\n",
      "0\n",
      "1\n",
      "0\n",
      "0\n",
      "1\n",
      "0\n",
      "1\n",
      "1\n",
      "0\n",
      "1\n",
      "1\n"
     ]
    }
   ],
   "source": [
    "for i,p in enumerate([x for _, x in sorted(zip(list_of_ids, token_overlap))] ):\n",
    "    print(p)\n",
    "#     print(refs[i])\n",
    "#     print(preds[i][1])"
   ]
  },
  {
   "cell_type": "code",
   "execution_count": null,
   "id": "8933ec73",
   "metadata": {},
   "outputs": [],
   "source": []
  },
  {
   "cell_type": "code",
   "execution_count": null,
   "id": "1b78cbbf",
   "metadata": {},
   "outputs": [],
   "source": []
  }
 ],
 "metadata": {
  "kernelspec": {
   "display_name": "Python 3 (ipykernel)",
   "language": "python",
   "name": "python3"
  },
  "language_info": {
   "codemirror_mode": {
    "name": "ipython",
    "version": 3
   },
   "file_extension": ".py",
   "mimetype": "text/x-python",
   "name": "python",
   "nbconvert_exporter": "python",
   "pygments_lexer": "ipython3",
   "version": "3.7.12"
  }
 },
 "nbformat": 4,
 "nbformat_minor": 5
}
