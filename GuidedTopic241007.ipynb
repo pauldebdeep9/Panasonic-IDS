{
 "cells": [
  {
   "cell_type": "code",
   "execution_count": 25,
   "id": "0f409eaa-bb68-4e3c-84ff-699c4f61c757",
   "metadata": {},
   "outputs": [],
   "source": [
    "import numpy as np\n",
    "import torch\n",
    "from transformers import GPT2Tokenizer, GPT2LMHeadModel,BertTokenizer, BertModel\n",
    "# from sentence_transformers import SentenceTransformer\n",
    "from sklearn.cluster import KMeans\n",
    "from sklearn.metrics.pairwise import cosine_similarity\n",
    "import matplotlib.pyplot as plt\n",
    "import seaborn as sns"
   ]
  },
  {
   "cell_type": "code",
   "execution_count": 3,
   "id": "169d89d1",
   "metadata": {},
   "outputs": [
    {
     "name": "stderr",
     "output_type": "stream",
     "text": [
      "/Users/debdeeppaul/opt/anaconda3/envs/Shirdi2407/lib/python3.11/site-packages/transformers/tokenization_utils_base.py:1617: FutureWarning: `clean_up_tokenization_spaces` was not set. It will be set to `True` by default. This behavior will be deprecated in transformers v4.45, and will be then set to `False` by default. For more details check this issue: https://github.com/huggingface/transformers/issues/31884\n",
      "  warnings.warn(\n"
     ]
    }
   ],
   "source": [
    "# Load GPT-2 model and tokenizer\n",
    "tokenizer = GPT2Tokenizer.from_pretrained('gpt2')\n",
    "model = GPT2LMHeadModel.from_pretrained('gpt2')"
   ]
  },
  {
   "cell_type": "code",
   "execution_count": 4,
   "id": "e0219e7f-d0f9-4df5-b7ae-dad38b787789",
   "metadata": {},
   "outputs": [],
   "source": [
    "# Load GPT-2 model and tokenizer\n",
    "tokenizer = GPT2Tokenizer.from_pretrained('gpt2')\n",
    "model = GPT2LMHeadModel.from_pretrained('gpt2')"
   ]
  },
  {
   "cell_type": "code",
   "execution_count": 5,
   "id": "74142187-361a-4c54-8573-052e81570d7c",
   "metadata": {},
   "outputs": [],
   "source": [
    "# Set pad_token_id to eos_token_id to avoid warnings\n",
    "model.config.pad_token_id = model.config.eos_token_id"
   ]
  },
  {
   "cell_type": "code",
   "execution_count": 6,
   "id": "eb871716-000e-44de-9b03-25684130a862",
   "metadata": {},
   "outputs": [],
   "source": [
    "def generate_topic(text, max_length=50):\n",
    "    prompt = f\"The main topic of this document is: {text} The topic is\"\n",
    "    \n",
    "    # Encode the input prompt\n",
    "    inputs = tokenizer.encode(prompt, return_tensors='pt')\n",
    "    \n",
    "    # Generate the attention mask\n",
    "    attention_mask = torch.ones(inputs.shape, device=inputs.device)\n",
    "    \n",
    "    # Generate text using GPT-2\n",
    "    with torch.no_grad():\n",
    "        outputs = model.generate(\n",
    "            inputs, \n",
    "            max_length=max_length, \n",
    "            do_sample=True, \n",
    "            top_k=50,\n",
    "            pad_token_id=model.config.eos_token_id,\n",
    "            attention_mask=attention_mask\n",
    "        )\n",
    "    \n",
    "    # Decode and return the generated text\n",
    "    generated_text = tokenizer.decode(outputs[0], skip_special_tokens=True, clean_up_tokenization_spaces=True)\n",
    "    \n",
    "    # Post-process: extract the topic from the generated text\n",
    "    topic_start = generated_text.find(\"The topic is\") + len(\"The topic is \")\n",
    "    topic_end = generated_text.find(\".\", topic_start)\n",
    "    \n",
    "    # Return the inferred topic\n",
    "    return generated_text[topic_start:topic_end].strip()"
   ]
  },
  {
   "cell_type": "code",
   "execution_count": 7,
   "id": "f854ba60-fab0-41dd-ad2f-5c3670232181",
   "metadata": {},
   "outputs": [
    {
     "name": "stdout",
     "output_type": "stream",
     "text": [
      "Generated Topic: the rise of A\n"
     ]
    }
   ],
   "source": [
    "# Example: Using GPT-2 for zero-shot topic generation\n",
    "text_document = \"Artificial intelligence is transforming industries with innovative solutions like machine learning and deep learning models. These technologies are being applied in healthcare, finance, and manufacturing. Open AI is doing great!\"\n",
    "topic = generate_topic(text_document)\n",
    "print(f\"Generated Topic: {topic}\")"
   ]
  },
  {
   "cell_type": "code",
   "execution_count": 8,
   "id": "c9afe338-e41e-4d9d-9957-79c5e6a6c3f9",
   "metadata": {},
   "outputs": [
    {
     "name": "stdout",
     "output_type": "stream",
     "text": [
      "Generated Topic: the article is the\n",
      " Intelligence\n",
      "Topic Token Weights: [8.32683508633636e-05, 0.0004420151235535741, 0.11976153403520584, 0.20330823957920074, 0.00011431064194766805, 1.4388907842999288e-08]\n"
     ]
    }
   ],
   "source": [
    "# Load GPT-2 model and tokenizer\n",
    "tokenizer = GPT2Tokenizer.from_pretrained('gpt2')\n",
    "model = GPT2LMHeadModel.from_pretrained('gpt2')\n",
    "\n",
    "# Set pad_token_id to eos_token_id to avoid warnings\n",
    "model.config.pad_token_id = model.config.eos_token_id\n",
    "\n",
    "def generate_topic_with_weights(text, max_length=50):\n",
    "    prompt = f\"The main topic of this document is: {text} The topic is\"\n",
    "    \n",
    "    # Encode the input prompt\n",
    "    inputs = tokenizer(prompt, return_tensors='pt')\n",
    "    \n",
    "    # Generate text using GPT-2 and return logits\n",
    "    with torch.no_grad():\n",
    "        outputs = model(**inputs, output_hidden_states=False, output_attentions=False, return_dict=True)\n",
    "        logits = outputs.logits\n",
    "    \n",
    "    # Decode and return the generated text\n",
    "    generated_ids = torch.argmax(logits, dim=-1)\n",
    "    generated_text = tokenizer.decode(generated_ids[0], skip_special_tokens=True, clean_up_tokenization_spaces=True)\n",
    "    \n",
    "    # Post-process: extract the topic from the generated text\n",
    "    topic_start = generated_text.find(\"The topic is\") + len(\"The topic is \")\n",
    "    topic_end = generated_text.find(\".\", topic_start)\n",
    "    topic = generated_text[topic_start:topic_end].strip()\n",
    "\n",
    "    # Extract the weights (probabilities) of the topic tokens\n",
    "    topic_tokens = tokenizer.encode(topic)\n",
    "    topic_logits = logits[0, :len(topic_tokens)]\n",
    "    \n",
    "    # Calculate softmax to get probabilities\n",
    "    token_probs = torch.softmax(topic_logits, dim=-1)\n",
    "    \n",
    "    # Extract the probabilities for the actual generated topic tokens\n",
    "    token_weights = [token_probs[i][token_id].item() for i, token_id in enumerate(topic_tokens)]\n",
    "\n",
    "    # Return the topic and its associated token weights\n",
    "    return topic, token_weights\n",
    "\n",
    "# Example: Using GPT-2 for zero-shot topic generation\n",
    "text_document = \"Artificial intelligence is transforming industries with innovative solutions like machine learning and deep learning models. These technologies are being applied in healthcare, finance, and manufacturing.\"\n",
    "topic, token_weights = generate_topic_with_weights(text_document)\n",
    "print(f\"Generated Topic: {topic}\")\n",
    "print(f\"Topic Token Weights: {token_weights}\")\n"
   ]
  },
  {
   "cell_type": "markdown",
   "id": "331dae5d-e302-4816-ae7a-c22b5a6154a0",
   "metadata": {},
   "source": [
    "**Guided topic model**"
   ]
  },
  {
   "cell_type": "code",
   "execution_count": 9,
   "id": "46afa090-dbc0-4abd-b4ba-07a81ffefa78",
   "metadata": {},
   "outputs": [],
   "source": [
    "import pandas as pd\n",
    "df= pd.read_csv('MIR_annotated.csv')\n",
    "documents= df['text']"
   ]
  },
  {
   "cell_type": "code",
   "execution_count": 10,
   "id": "097bfe79-d193-4e6f-ae43-a32dd606ae5f",
   "metadata": {},
   "outputs": [],
   "source": [
    "# Load pre-trained BERT model and tokenizer\n",
    "tokenizer = BertTokenizer.from_pretrained(\"bert-base-uncased\")\n",
    "model = BertModel.from_pretrained(\"bert-base-uncased\")\n",
    "\n",
    "# Function to generate embeddings for a list of documents\n",
    "def get_embeddings(documents):\n",
    "    embeddings = []\n",
    "    for doc in documents:\n",
    "        # Tokenize and encode the document\n",
    "        inputs = tokenizer(doc, return_tensors=\"pt\", max_length=512, truncation=True, padding='max_length')\n",
    "        with torch.no_grad():\n",
    "            outputs = model(**inputs)\n",
    "        # Get the embedding from the CLS token (first token)\n",
    "        embeddings.append(outputs.last_hidden_state[:, 0, :].squeeze().numpy())\n",
    "    return embeddings\n",
    "\n",
    "# Generate embeddings for the documents\n",
    "document_embeddings = get_embeddings(documents)"
   ]
  },
  {
   "cell_type": "code",
   "execution_count": 11,
   "id": "948e0a3a-037f-4aa0-a91c-1c0fc8a2d4a0",
   "metadata": {},
   "outputs": [],
   "source": [
    "# Define the number of clusters (topics)\n",
    "num_topics = 10 # You can modify this based on your corpus\n",
    "kmeans = KMeans(n_clusters=num_topics, random_state=42)\n",
    "\n",
    "# Fit K-Means to the document embeddings\n",
    "kmeans.fit(document_embeddings)\n",
    "cluster_labels = kmeans.labels_\n",
    "cluster_centers = kmeans.cluster_centers_  # Get the centroids of the clusters (topics)"
   ]
  },
  {
   "cell_type": "code",
   "execution_count": 12,
   "id": "c2587bf3-61cc-4137-a8c5-e7ea28c4853e",
   "metadata": {},
   "outputs": [
    {
     "name": "stdout",
     "output_type": "stream",
     "text": [
      "Keywords per Topic:\n",
      "Topic 0: ['companies' 'global' '63' 'sanctions' 'confronting' 'imposed' 'invasion'\n",
      " 'joined' 'leaving' 'march']\n",
      "Topic 1: ['automotive' 'camless' 'piston' 'engine' 'vehicles' 'electrified'\n",
      " 'production' 'future' 'stellantis' 'automaker']\n",
      "Topic 2: ['road' 'said' 'asean' 'safety' 'companies' 'indian' 'market' 'foreign'\n",
      " 'cars' 'local']\n"
     ]
    }
   ],
   "source": [
    "from sklearn.feature_extraction.text import TfidfVectorizer\n",
    "import numpy as np\n",
    "\n",
    "# Define the number of clusters (topics)\n",
    "num_topics = 3  # Adjust based on your corpus\n",
    "top_n= 10\n",
    "kmeans = KMeans(n_clusters=num_topics, random_state=42)\n",
    "\n",
    "# Fit K-Means to the document embeddings\n",
    "kmeans.fit(document_embeddings)\n",
    "cluster_labels = kmeans.labels_\n",
    "\n",
    "# Function to extract keywords using TF-IDF for each topic\n",
    "def extract_top_keywords_per_topic(documents, cluster_labels, num_topics, top_n=5):\n",
    "    # Group documents by cluster (topic)\n",
    "    topic_keywords = {}\n",
    "    for topic in range(num_topics):\n",
    "        # Get documents belonging to the current topic\n",
    "        topic_docs = [documents[i] for i in range(len(documents)) if cluster_labels[i] == topic]\n",
    "        \n",
    "        # Apply TF-IDF to extract keywords from these documents\n",
    "        tfidf_vectorizer = TfidfVectorizer(stop_words='english', max_features=1000)\n",
    "        tfidf_matrix = tfidf_vectorizer.fit_transform(topic_docs)\n",
    "        \n",
    "        # Get the top N keywords based on the TF-IDF scores\n",
    "        tfidf_feature_names = np.array(tfidf_vectorizer.get_feature_names_out())\n",
    "        top_keywords_idx = np.argsort(tfidf_matrix.toarray().mean(axis=0))[-top_n:][::-1]\n",
    "        top_keywords = tfidf_feature_names[top_keywords_idx]\n",
    "        \n",
    "        topic_keywords[topic] = top_keywords\n",
    "    \n",
    "    return topic_keywords\n",
    "\n",
    "# Extract the top 5 keywords for each topic\n",
    "topic_keywords = extract_top_keywords_per_topic(documents, cluster_labels, num_topics, top_n)\n",
    "\n",
    "# Print the top keywords for each topic\n",
    "print(\"Keywords per Topic:\")\n",
    "for topic, keywords in topic_keywords.items():\n",
    "    print(f\"Topic {topic}: {keywords}\")\n"
   ]
  },
  {
   "cell_type": "code",
   "execution_count": 13,
   "id": "42c9b582-dc79-4e45-99ca-ed59a3afd6c5",
   "metadata": {},
   "outputs": [],
   "source": [
    "seed_keywords = {\n",
    "    \"Technology\": [\"artificial intelligence\", \"machine learning\", \"deep learning\"],\n",
    "    \"Finance\": [\"blockchain\", \"decentralized\", \"finance\"],\n",
    "    \"Transportation\": [\"self-driving\", \"cars\", \"automation\"]\n",
    "}"
   ]
  },
  {
   "cell_type": "code",
   "execution_count": 14,
   "id": "eb0a89e6-f21d-4d9b-9358-3662fce3a117",
   "metadata": {},
   "outputs": [],
   "source": [
    "# Function to encode seed words into embeddings\n",
    "def get_seed_embeddings(seed_keywords):\n",
    "    seed_embeddings = {}\n",
    "    for category, keywords in seed_keywords.items():\n",
    "        embeddings = [model(**tokenizer(keyword, return_tensors='pt'))[0][:, 0, :].squeeze().detach().numpy() for keyword in keywords]\n",
    "        seed_embeddings[category] = np.array(embeddings)\n",
    "    return seed_embeddings\n",
    "\n",
    "# Encode the seed words into embeddings\n",
    "seed_embeddings = get_seed_embeddings(seed_keywords)\n",
    "\n"
   ]
  },
  {
   "cell_type": "code",
   "execution_count": 19,
   "id": "e84855c0-f7cb-474c-89da-4e330231e1e4",
   "metadata": {},
   "outputs": [],
   "source": [
    "def create_heatmap(data, row_labels, column_labels, title=\"Heatmap\"):\n",
    "    # Create a DataFrame from the data\n",
    "    df = pd.DataFrame(data, index=row_labels, columns=column_labels)\n",
    "\n",
    "    # Create the heatmap\n",
    "    plt.figure(figsize=(8, 6))\n",
    "    sns.heatmap(df, annot=True, cmap='coolwarm', cbar=True, linewidths=0.5, linecolor='black')\n",
    "\n",
    "    # Show the plot with title\n",
    "    plt.title(title)\n",
    "    plt.show()"
   ]
  },
  {
   "cell_type": "code",
   "execution_count": 21,
   "id": "fd15b607-fedf-497e-a81e-67de7c5d2b38",
   "metadata": {},
   "outputs": [
    {
     "name": "stdout",
     "output_type": "stream",
     "text": [
      "Topic 0 Distribution:\n",
      "Technology: 0.7024\n",
      "Finance: 0.7308\n",
      "Transportation: 0.6839\n",
      "Topic 1 Distribution:\n",
      "Technology: 0.7276\n",
      "Finance: 0.7394\n",
      "Transportation: 0.7108\n",
      "Topic 2 Distribution:\n",
      "Technology: 0.7287\n",
      "Finance: 0.7342\n",
      "Transportation: 0.7078\n",
      "Topic 3 Distribution:\n",
      "Technology: 0.7488\n",
      "Finance: 0.7208\n",
      "Transportation: 0.6900\n",
      "Topic 4 Distribution:\n",
      "Technology: 0.8199\n",
      "Finance: 0.7982\n",
      "Transportation: 0.7673\n",
      "Topic 5 Distribution:\n",
      "Technology: 0.7179\n",
      "Finance: 0.7398\n",
      "Transportation: 0.7002\n",
      "Topic 6 Distribution:\n",
      "Technology: 0.5951\n",
      "Finance: 0.6436\n",
      "Transportation: 0.5737\n",
      "Topic 7 Distribution:\n",
      "Technology: 0.5256\n",
      "Finance: 0.5196\n",
      "Transportation: 0.5092\n",
      "Topic 8 Distribution:\n",
      "Technology: 0.7350\n",
      "Finance: 0.7253\n",
      "Transportation: 0.7020\n",
      "Topic 9 Distribution:\n",
      "Technology: 0.6712\n",
      "Finance: 0.6873\n",
      "Transportation: 0.6492\n"
     ]
    }
   ],
   "source": [
    "# Function to calculate distribution of seed words across topics\n",
    "def calculate_seed_word_distribution(cluster_centers, seed_embeddings):\n",
    "    distribution = {}\n",
    "    for topic_idx, center in enumerate(cluster_centers):\n",
    "        topic_distribution = {}\n",
    "        for category, keywords_embeds in seed_embeddings.items():\n",
    "            # Calculate cosine similarity between the topic centroid and seed word embeddings\n",
    "            similarity = cosine_similarity([center], keywords_embeds).mean()\n",
    "            topic_distribution[category] = similarity\n",
    "        distribution[topic_idx] = topic_distribution\n",
    "    return distribution\n",
    "\n",
    "# Calculate the seed word distribution across topics\n",
    "topic_seedword_distribution = calculate_seed_word_distribution(cluster_centers, seed_embeddings)\n",
    "\n",
    "# Display the distribution\n",
    "for topic, distribution in topic_seedword_distribution.items():\n",
    "    print(f\"Topic {topic} Distribution:\")\n",
    "    for category, similarity in distribution.items():\n",
    "        print(f\"{category}: {similarity:.4f}\")\n"
   ]
  },
  {
   "cell_type": "code",
   "execution_count": 26,
   "id": "da8d9d3d-631e-4a2d-a983-f63dfe5a74f9",
   "metadata": {},
   "outputs": [
    {
     "data": {
      "image/png": "[encoded data removed]",
      "text/plain": [
       "<Figure size 800x600 with 2 Axes>"
      ]
     },
     "metadata": {},
     "output_type": "display_data"
    }
   ],
   "source": [
    "# Step 1: Convert topic_seedword_distribution into a DataFrame\n",
    "def create_dataframe_from_distribution(topic_seedword_distribution):\n",
    "    # Extract topics and categories\n",
    "    topics = list(topic_seedword_distribution.keys())\n",
    "    categories = list(next(iter(topic_seedword_distribution.values())).keys())\n",
    "    \n",
    "    # Prepare the data in a matrix format\n",
    "    data = {category: [topic_seedword_distribution[topic][category] for topic in topics] for category in categories}\n",
    "    return pd.DataFrame(data, index=[f'Topic {topic}' for topic in topics])\n",
    "\n",
    "# Step 2: Create the heatmap from the DataFrame\n",
    "def visualize_seed_word_distribution_heatmap(topic_seedword_distribution):\n",
    "    # Convert distribution to DataFrame\n",
    "    df = create_dataframe_from_distribution(topic_seedword_distribution)\n",
    "    \n",
    "    # Use the previous heatmap function to create the heatmap\n",
    "    create_heatmap(df, df.index, df.columns, title=\"Seed Word Distribution Across Topics\")\n",
    "\n",
    "# Example usage: Visualize the heatmap\n",
    "visualize_seed_word_distribution_heatmap(topic_seedword_distribution)\n"
   ]
  },
  {
   "cell_type": "code",
   "execution_count": null,
   "id": "1558639c-4fc8-4865-ab19-7551c5100b76",
   "metadata": {},
   "outputs": [],
   "source": []
  }
 ],
 "metadata": {
  "kernelspec": {
   "display_name": "Python 3 (ipykernel)",
   "language": "python",
   "name": "python3"
  },
  "language_info": {
   "codemirror_mode": {
    "name": "ipython",
    "version": 3
   },
   "file_extension": ".py",
   "mimetype": "text/x-python",
   "name": "python",
   "nbconvert_exporter": "python",
   "pygments_lexer": "ipython3",
   "version": "3.11.0"
  }
 },
 "nbformat": 4,
 "nbformat_minor": 5
}
